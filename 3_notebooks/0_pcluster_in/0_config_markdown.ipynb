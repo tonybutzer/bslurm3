{
 "cells": [
  {
   "cell_type": "code",
   "execution_count": 2,
   "id": "b6dd6b0c-9a6f-4e16-8c9e-61491bdad7c6",
   "metadata": {},
   "outputs": [
    {
     "name": "stdout",
     "output_type": "stream",
     "text": [
      "{'Region': 'us-west-2', 'CustomS3Bucket': 'dev-nlcd-parallelcluster-testbucket', 'Image': {'Os': 'alinux2', 'CustomAmi': 'ami-009c5907993dd62fd'}, 'HeadNode': {'InstanceType': 't3.large', 'Networking': {'SubnetId': 'subnet-0f29464029b7f677c', 'SecurityGroups': ['sg-00e85d664a5bcd8bb']}, 'Ssh': {'KeyName': 'nlcd-pcluster-access-key'}, 'Iam': {'AdditionalIamPolicies': [{'Policy': 'arn:aws:iam::081515586180:policy/developer-policy'}, {'Policy': 'arn:aws:iam::081515586180:policy/nlcd-developer-s3-access-policy'}], 'S3Access': [{'BucketName': 'dev-nlcd-developer'}]}}, 'Scheduling': {'Scheduler': 'slurm', 'SlurmSettings': {'Dns': {'DisableManagedDns': True, 'UseEc2Hostnames': True}}, 'SlurmQueues': [{'Name': 'economy', 'ComputeResources': [{'Name': 't32xlarge', 'Instances': [{'InstanceType': 't3.2xlarge'}], 'MinCount': 0, 'MaxCount': 40}], 'Networking': {'SubnetIds': ['subnet-0f29464029b7f677c'], 'SecurityGroups': ['sg-00e85d664a5bcd8bb']}, 'Image': {'CustomAmi': 'ami-009c5907993dd62fd'}, 'Iam': {'AdditionalIamPolicies': [{'Policy': 'arn:aws:iam::081515586180:policy/developer-policy'}, {'Policy': 'arn:aws:iam::081515586180:policy/nlcd-developer-s3-access-policy'}], 'S3Access': [{'BucketName': 'dev-nlcd-developer'}]}}, {'Name': 'hpc', 'ComputeResources': [{'Name': 'c6i32xlarge', 'Instances': [{'InstanceType': 'c6i.32xlarge'}], 'MinCount': 0, 'MaxCount': 10}], 'Networking': {'SubnetIds': ['subnet-0f29464029b7f677c'], 'SecurityGroups': ['sg-00e85d664a5bcd8bb'], 'PlacementGroup': {'Enabled': True}}, 'Image': {'CustomAmi': 'ami-009c5907993dd62fd'}, 'Iam': {'AdditionalIamPolicies': [{'Policy': 'arn:aws:iam::081515586180:policy/developer-policy'}, {'Policy': 'arn:aws:iam::081515586180:policy/nlcd-developer-s3-access-policy'}], 'S3Access': [{'BucketName': 'dev-nlcd-developer'}]}}, {'Name': 'gpu', 'ComputeResources': [{'Name': 'p548xlarge', 'Instances': [{'InstanceType': 'p5.48xlarge'}], 'MinCount': 0, 'MaxCount': 10}], 'Networking': {'SubnetIds': ['subnet-0f29464029b7f677c'], 'SecurityGroups': ['sg-00e85d664a5bcd8bb'], 'PlacementGroup': {'Enabled': True}}, 'Image': {'CustomAmi': 'ami-009c5907993dd62fd'}, 'Iam': {'AdditionalIamPolicies': [{'Policy': 'arn:aws:iam::081515586180:policy/developer-policy'}, {'Policy': 'arn:aws:iam::081515586180:policy/nlcd-developer-s3-access-policy'}], 'S3Access': [{'BucketName': 'dev-nlcd-developer'}]}}]}, 'Iam': {'PermissionsBoundary': 'arn:aws:iam::081515586180:policy/csr-Developer-Permissions-Boundary'}, 'SharedStorage': [{'MountDir': '/efs', 'Name': 's3-data-efs', 'StorageType': 'Efs', 'EfsSettings': {'Encrypted': False, 'DeletionPolicy': 'Delete'}}]}\n"
     ]
    }
   ],
   "source": [
    "# %load y.py\n",
    "\n",
    "import yaml\n",
    "\n",
    "def read_config(filename):\n",
    "    with open(filename, 'r') as stream:\n",
    "        try:\n",
    "            return yaml.safe_load(stream)\n",
    "        except yaml.YAMLError as exc:\n",
    "            print(exc)\n",
    "\n",
    "config_dict = read_config('cluster.yaml')\n",
    "\n",
    "print(config_dict)\n"
   ]
  },
  {
   "cell_type": "code",
   "execution_count": 3,
   "id": "178b0242-c958-45bd-92f8-3a26eeadc3f4",
   "metadata": {},
   "outputs": [
    {
     "data": {
      "text/plain": [
       "dict_keys(['Region', 'CustomS3Bucket', 'Image', 'HeadNode', 'Scheduling', 'Iam', 'SharedStorage'])"
      ]
     },
     "execution_count": 3,
     "metadata": {},
     "output_type": "execute_result"
    }
   ],
   "source": [
    "config_dict.keys()"
   ]
  },
  {
   "cell_type": "code",
   "execution_count": 4,
   "id": "894c22ff-a6c0-4b5e-9330-d0bf7d0aa2a1",
   "metadata": {},
   "outputs": [
    {
     "data": {
      "text/plain": [
       "dict_keys(['InstanceType', 'Networking', 'Ssh', 'Iam'])"
      ]
     },
     "execution_count": 4,
     "metadata": {},
     "output_type": "execute_result"
    }
   ],
   "source": [
    "config_dict['HeadNode'].keys()"
   ]
  },
  {
   "cell_type": "code",
   "execution_count": 5,
   "id": "d2640c06-54e0-4d27-899c-d0e8fe64815e",
   "metadata": {},
   "outputs": [
    {
     "data": {
      "text/plain": [
       "{'InstanceType': 't3.large',\n",
       " 'Networking': {'SubnetId': 'subnet-0f29464029b7f677c',\n",
       "  'SecurityGroups': ['sg-00e85d664a5bcd8bb']},\n",
       " 'Ssh': {'KeyName': 'nlcd-pcluster-access-key'},\n",
       " 'Iam': {'AdditionalIamPolicies': [{'Policy': 'arn:aws:iam::081515586180:policy/developer-policy'},\n",
       "   {'Policy': 'arn:aws:iam::081515586180:policy/nlcd-developer-s3-access-policy'}],\n",
       "  'S3Access': [{'BucketName': 'dev-nlcd-developer'}]}}"
      ]
     },
     "execution_count": 5,
     "metadata": {},
     "output_type": "execute_result"
    }
   ],
   "source": [
    "config_dict['HeadNode']"
   ]
  },
  {
   "cell_type": "code",
   "execution_count": 6,
   "id": "1fcd8ef5-68f0-442b-853a-6aef0ba6933f",
   "metadata": {},
   "outputs": [
    {
     "data": {
      "text/plain": [
       "{'Scheduler': 'slurm',\n",
       " 'SlurmSettings': {'Dns': {'DisableManagedDns': True,\n",
       "   'UseEc2Hostnames': True}},\n",
       " 'SlurmQueues': [{'Name': 'economy',\n",
       "   'ComputeResources': [{'Name': 't32xlarge',\n",
       "     'Instances': [{'InstanceType': 't3.2xlarge'}],\n",
       "     'MinCount': 0,\n",
       "     'MaxCount': 40}],\n",
       "   'Networking': {'SubnetIds': ['subnet-0f29464029b7f677c'],\n",
       "    'SecurityGroups': ['sg-00e85d664a5bcd8bb']},\n",
       "   'Image': {'CustomAmi': 'ami-009c5907993dd62fd'},\n",
       "   'Iam': {'AdditionalIamPolicies': [{'Policy': 'arn:aws:iam::081515586180:policy/developer-policy'},\n",
       "     {'Policy': 'arn:aws:iam::081515586180:policy/nlcd-developer-s3-access-policy'}],\n",
       "    'S3Access': [{'BucketName': 'dev-nlcd-developer'}]}},\n",
       "  {'Name': 'hpc',\n",
       "   'ComputeResources': [{'Name': 'c6i32xlarge',\n",
       "     'Instances': [{'InstanceType': 'c6i.32xlarge'}],\n",
       "     'MinCount': 0,\n",
       "     'MaxCount': 10}],\n",
       "   'Networking': {'SubnetIds': ['subnet-0f29464029b7f677c'],\n",
       "    'SecurityGroups': ['sg-00e85d664a5bcd8bb'],\n",
       "    'PlacementGroup': {'Enabled': True}},\n",
       "   'Image': {'CustomAmi': 'ami-009c5907993dd62fd'},\n",
       "   'Iam': {'AdditionalIamPolicies': [{'Policy': 'arn:aws:iam::081515586180:policy/developer-policy'},\n",
       "     {'Policy': 'arn:aws:iam::081515586180:policy/nlcd-developer-s3-access-policy'}],\n",
       "    'S3Access': [{'BucketName': 'dev-nlcd-developer'}]}},\n",
       "  {'Name': 'gpu',\n",
       "   'ComputeResources': [{'Name': 'p548xlarge',\n",
       "     'Instances': [{'InstanceType': 'p5.48xlarge'}],\n",
       "     'MinCount': 0,\n",
       "     'MaxCount': 10}],\n",
       "   'Networking': {'SubnetIds': ['subnet-0f29464029b7f677c'],\n",
       "    'SecurityGroups': ['sg-00e85d664a5bcd8bb'],\n",
       "    'PlacementGroup': {'Enabled': True}},\n",
       "   'Image': {'CustomAmi': 'ami-009c5907993dd62fd'},\n",
       "   'Iam': {'AdditionalIamPolicies': [{'Policy': 'arn:aws:iam::081515586180:policy/developer-policy'},\n",
       "     {'Policy': 'arn:aws:iam::081515586180:policy/nlcd-developer-s3-access-policy'}],\n",
       "    'S3Access': [{'BucketName': 'dev-nlcd-developer'}]}}]}"
      ]
     },
     "execution_count": 6,
     "metadata": {},
     "output_type": "execute_result"
    }
   ],
   "source": [
    "config_dict['Scheduling']"
   ]
  },
  {
   "cell_type": "code",
   "execution_count": null,
   "id": "116a4a42-912c-4046-a34f-ca1ff6deb681",
   "metadata": {},
   "outputs": [],
   "source": [
    "config_dict['Scheduling']['SlurmQueues']"
   ]
  },
  {
   "cell_type": "code",
   "execution_count": 25,
   "id": "90e8da41-76a3-4932-b756-4f12a19816d6",
   "metadata": {},
   "outputs": [
    {
     "name": "stdout",
     "output_type": "stream",
     "text": [
      "economy t3.2xlarge 40\n",
      "hpc c6i.32xlarge 10\n",
      "gpu p5.48xlarge 10\n"
     ]
    }
   ],
   "source": [
    "q_list = []\n",
    "for i in config_dict['Scheduling']['SlurmQueues']:\n",
    "    q_dict = {}\n",
    "    print(i['Name'], i['ComputeResources'][0]['Instances'][0]['InstanceType'], i['ComputeResources'][0]['MaxCount'])\n",
    "    q_dict['Partition'] = i['Name']\n",
    "    q_dict['InstanceType'] = i['ComputeResources'][0]['Instances'][0]['InstanceType']\n",
    "    q_dict['MaxCount'] = i['ComputeResources'][0]['MaxCount']\n",
    "    q_list.append(q_dict)\n",
    "    "
   ]
  },
  {
   "cell_type": "code",
   "execution_count": 20,
   "id": "159aff2b-25d8-4917-9e24-809138dc6c93",
   "metadata": {},
   "outputs": [
    {
     "data": {
      "text/plain": [
       "[{'Name': 'economy',\n",
       "  'ComputeResources': [{'Name': 't32xlarge',\n",
       "    'Instances': [{'InstanceType': 't3.2xlarge'}],\n",
       "    'MinCount': 0,\n",
       "    'MaxCount': 40}],\n",
       "  'Networking': {'SubnetIds': ['subnet-0f29464029b7f677c'],\n",
       "   'SecurityGroups': ['sg-00e85d664a5bcd8bb']},\n",
       "  'Image': {'CustomAmi': 'ami-009c5907993dd62fd'},\n",
       "  'Iam': {'AdditionalIamPolicies': [{'Policy': 'arn:aws:iam::081515586180:policy/developer-policy'},\n",
       "    {'Policy': 'arn:aws:iam::081515586180:policy/nlcd-developer-s3-access-policy'}],\n",
       "   'S3Access': [{'BucketName': 'dev-nlcd-developer'}]}},\n",
       " {'Name': 'hpc',\n",
       "  'ComputeResources': [{'Name': 'c6i32xlarge',\n",
       "    'Instances': [{'InstanceType': 'c6i.32xlarge'}],\n",
       "    'MinCount': 0,\n",
       "    'MaxCount': 10}],\n",
       "  'Networking': {'SubnetIds': ['subnet-0f29464029b7f677c'],\n",
       "   'SecurityGroups': ['sg-00e85d664a5bcd8bb'],\n",
       "   'PlacementGroup': {'Enabled': True}},\n",
       "  'Image': {'CustomAmi': 'ami-009c5907993dd62fd'},\n",
       "  'Iam': {'AdditionalIamPolicies': [{'Policy': 'arn:aws:iam::081515586180:policy/developer-policy'},\n",
       "    {'Policy': 'arn:aws:iam::081515586180:policy/nlcd-developer-s3-access-policy'}],\n",
       "   'S3Access': [{'BucketName': 'dev-nlcd-developer'}]}},\n",
       " {'Name': 'gpu',\n",
       "  'ComputeResources': [{'Name': 'p548xlarge',\n",
       "    'Instances': [{'InstanceType': 'p5.48xlarge'}],\n",
       "    'MinCount': 0,\n",
       "    'MaxCount': 10}],\n",
       "  'Networking': {'SubnetIds': ['subnet-0f29464029b7f677c'],\n",
       "   'SecurityGroups': ['sg-00e85d664a5bcd8bb'],\n",
       "   'PlacementGroup': {'Enabled': True}},\n",
       "  'Image': {'CustomAmi': 'ami-009c5907993dd62fd'},\n",
       "  'Iam': {'AdditionalIamPolicies': [{'Policy': 'arn:aws:iam::081515586180:policy/developer-policy'},\n",
       "    {'Policy': 'arn:aws:iam::081515586180:policy/nlcd-developer-s3-access-policy'}],\n",
       "   'S3Access': [{'BucketName': 'dev-nlcd-developer'}]}}]"
      ]
     },
     "execution_count": 20,
     "metadata": {},
     "output_type": "execute_result"
    }
   ],
   "source": [
    "config_dict['Scheduling']['SlurmQueues']"
   ]
  },
  {
   "cell_type": "code",
   "execution_count": 26,
   "id": "783777b2-60b0-4c29-bfb9-4d536f3fb7ed",
   "metadata": {},
   "outputs": [
    {
     "data": {
      "text/plain": [
       "[{'Partition': 'economy', 'InstanceType': 't3.2xlarge', 'MaxCount': 40},\n",
       " {'Partition': 'hpc', 'InstanceType': 'c6i.32xlarge', 'MaxCount': 10},\n",
       " {'Partition': 'gpu', 'InstanceType': 'p5.48xlarge', 'MaxCount': 10}]"
      ]
     },
     "execution_count": 26,
     "metadata": {},
     "output_type": "execute_result"
    }
   ],
   "source": [
    "q_list"
   ]
  },
  {
   "cell_type": "code",
   "execution_count": 36,
   "id": "7aebc484-abc4-44bc-8621-22fb4a1743d5",
   "metadata": {
    "scrolled": true
   },
   "outputs": [],
   "source": [
    "import pandas as pd\n",
    "\n",
    "df = pd.DataFrame(q_list, index=None)"
   ]
  },
  {
   "cell_type": "code",
   "execution_count": 40,
   "id": "df72b043-b5cb-44f2-a192-5a017afe1a7f",
   "metadata": {},
   "outputs": [
    {
     "data": {
      "text/html": [
       "<div>\n",
       "<style scoped>\n",
       "    .dataframe tbody tr th:only-of-type {\n",
       "        vertical-align: middle;\n",
       "    }\n",
       "\n",
       "    .dataframe tbody tr th {\n",
       "        vertical-align: top;\n",
       "    }\n",
       "\n",
       "    .dataframe thead th {\n",
       "        text-align: right;\n",
       "    }\n",
       "</style>\n",
       "<table border=\"1\" class=\"dataframe\">\n",
       "  <thead>\n",
       "    <tr style=\"text-align: right;\">\n",
       "      <th></th>\n",
       "      <th>Partition</th>\n",
       "      <th>InstanceType</th>\n",
       "      <th>MaxCount</th>\n",
       "    </tr>\n",
       "  </thead>\n",
       "  <tbody>\n",
       "    <tr>\n",
       "      <th>0</th>\n",
       "      <td>economy</td>\n",
       "      <td>t3.2xlarge</td>\n",
       "      <td>40</td>\n",
       "    </tr>\n",
       "    <tr>\n",
       "      <th>1</th>\n",
       "      <td>hpc</td>\n",
       "      <td>c6i.32xlarge</td>\n",
       "      <td>10</td>\n",
       "    </tr>\n",
       "    <tr>\n",
       "      <th>2</th>\n",
       "      <td>gpu</td>\n",
       "      <td>p5.48xlarge</td>\n",
       "      <td>10</td>\n",
       "    </tr>\n",
       "  </tbody>\n",
       "</table>\n",
       "</div>"
      ],
      "text/plain": [
       "  Partition  InstanceType  MaxCount\n",
       "0   economy    t3.2xlarge        40\n",
       "1       hpc  c6i.32xlarge        10\n",
       "2       gpu   p5.48xlarge        10"
      ]
     },
     "execution_count": 40,
     "metadata": {},
     "output_type": "execute_result"
    }
   ],
   "source": [
    "df"
   ]
  },
  {
   "cell_type": "code",
   "execution_count": 38,
   "id": "feca1dbf-9e29-4176-ba1d-918f72101014",
   "metadata": {},
   "outputs": [
    {
     "name": "stdout",
     "output_type": "stream",
     "text": [
      "Partition InstanceType  MaxCount\n",
      "  economy   t3.2xlarge        40\n",
      "      hpc c6i.32xlarge        10\n",
      "      gpu  p5.48xlarge        10\n"
     ]
    }
   ],
   "source": [
    "print(df.to_string(index=False))"
   ]
  },
  {
   "cell_type": "code",
   "execution_count": 43,
   "id": "331b031e-0e7d-4de0-838e-d6e67c7e0cf9",
   "metadata": {},
   "outputs": [
    {
     "data": {
      "text/html": [
       "<style type=\"text/css\">\n",
       "</style>\n",
       "<table id=\"T_f359e\">\n",
       "  <thead>\n",
       "    <tr>\n",
       "      <th id=\"T_f359e_level0_col0\" class=\"col_heading level0 col0\" >Partition</th>\n",
       "      <th id=\"T_f359e_level0_col1\" class=\"col_heading level0 col1\" >InstanceType</th>\n",
       "      <th id=\"T_f359e_level0_col2\" class=\"col_heading level0 col2\" >MaxCount</th>\n",
       "    </tr>\n",
       "  </thead>\n",
       "  <tbody>\n",
       "    <tr>\n",
       "      <td id=\"T_f359e_row0_col0\" class=\"data row0 col0\" >economy</td>\n",
       "      <td id=\"T_f359e_row0_col1\" class=\"data row0 col1\" >t3.2xlarge</td>\n",
       "      <td id=\"T_f359e_row0_col2\" class=\"data row0 col2\" >40</td>\n",
       "    </tr>\n",
       "    <tr>\n",
       "      <td id=\"T_f359e_row1_col0\" class=\"data row1 col0\" >hpc</td>\n",
       "      <td id=\"T_f359e_row1_col1\" class=\"data row1 col1\" >c6i.32xlarge</td>\n",
       "      <td id=\"T_f359e_row1_col2\" class=\"data row1 col2\" >10</td>\n",
       "    </tr>\n",
       "    <tr>\n",
       "      <td id=\"T_f359e_row2_col0\" class=\"data row2 col0\" >gpu</td>\n",
       "      <td id=\"T_f359e_row2_col1\" class=\"data row2 col1\" >p5.48xlarge</td>\n",
       "      <td id=\"T_f359e_row2_col2\" class=\"data row2 col2\" >10</td>\n",
       "    </tr>\n",
       "  </tbody>\n",
       "</table>\n"
      ],
      "text/plain": [
       "<pandas.io.formats.style.Styler at 0x7fe714acc410>"
      ]
     },
     "execution_count": 43,
     "metadata": {},
     "output_type": "execute_result"
    }
   ],
   "source": [
    "df.style.hide(axis='index')"
   ]
  },
  {
   "cell_type": "code",
   "execution_count": 44,
   "id": "f77b65df-8cc6-47b2-805a-372cf5b8a79f",
   "metadata": {},
   "outputs": [
    {
     "data": {
      "text/html": [
       "<div>\n",
       "<style scoped>\n",
       "    .dataframe tbody tr th:only-of-type {\n",
       "        vertical-align: middle;\n",
       "    }\n",
       "\n",
       "    .dataframe tbody tr th {\n",
       "        vertical-align: top;\n",
       "    }\n",
       "\n",
       "    .dataframe thead th {\n",
       "        text-align: right;\n",
       "    }\n",
       "</style>\n",
       "<table border=\"1\" class=\"dataframe\">\n",
       "  <thead>\n",
       "    <tr style=\"text-align: right;\">\n",
       "      <th></th>\n",
       "      <th>Partition</th>\n",
       "      <th>InstanceType</th>\n",
       "      <th>MaxCount</th>\n",
       "    </tr>\n",
       "  </thead>\n",
       "  <tbody>\n",
       "    <tr>\n",
       "      <th>0</th>\n",
       "      <td>economy</td>\n",
       "      <td>t3.2xlarge</td>\n",
       "      <td>40</td>\n",
       "    </tr>\n",
       "    <tr>\n",
       "      <th>1</th>\n",
       "      <td>hpc</td>\n",
       "      <td>c6i.32xlarge</td>\n",
       "      <td>10</td>\n",
       "    </tr>\n",
       "    <tr>\n",
       "      <th>2</th>\n",
       "      <td>gpu</td>\n",
       "      <td>p5.48xlarge</td>\n",
       "      <td>10</td>\n",
       "    </tr>\n",
       "  </tbody>\n",
       "</table>\n",
       "</div>"
      ],
      "text/plain": [
       "  Partition  InstanceType  MaxCount\n",
       "0   economy    t3.2xlarge        40\n",
       "1       hpc  c6i.32xlarge        10\n",
       "2       gpu   p5.48xlarge        10"
      ]
     },
     "execution_count": 44,
     "metadata": {},
     "output_type": "execute_result"
    }
   ],
   "source": [
    "df"
   ]
  },
  {
   "cell_type": "code",
   "execution_count": 34,
   "id": "3ffe9b26-ebaf-47ee-9f79-5d21b772601b",
   "metadata": {},
   "outputs": [],
   "source": [
    "df.set_index('Partition', inplace=True)"
   ]
  },
  {
   "cell_type": "code",
   "execution_count": null,
   "id": "b7818f52-543d-46d7-b9ab-2431a7fdbcfd",
   "metadata": {},
   "outputs": [],
   "source": []
  },
  {
   "cell_type": "code",
   "execution_count": 35,
   "id": "1920544a-1061-4f86-9694-ad60217bbc16",
   "metadata": {},
   "outputs": [
    {
     "data": {
      "text/html": [
       "<div>\n",
       "<style scoped>\n",
       "    .dataframe tbody tr th:only-of-type {\n",
       "        vertical-align: middle;\n",
       "    }\n",
       "\n",
       "    .dataframe tbody tr th {\n",
       "        vertical-align: top;\n",
       "    }\n",
       "\n",
       "    .dataframe thead th {\n",
       "        text-align: right;\n",
       "    }\n",
       "</style>\n",
       "<table border=\"1\" class=\"dataframe\">\n",
       "  <thead>\n",
       "    <tr style=\"text-align: right;\">\n",
       "      <th></th>\n",
       "      <th>InstanceType</th>\n",
       "      <th>MaxCount</th>\n",
       "    </tr>\n",
       "    <tr>\n",
       "      <th>Partition</th>\n",
       "      <th></th>\n",
       "      <th></th>\n",
       "    </tr>\n",
       "  </thead>\n",
       "  <tbody>\n",
       "    <tr>\n",
       "      <th>economy</th>\n",
       "      <td>t3.2xlarge</td>\n",
       "      <td>40</td>\n",
       "    </tr>\n",
       "    <tr>\n",
       "      <th>hpc</th>\n",
       "      <td>c6i.32xlarge</td>\n",
       "      <td>10</td>\n",
       "    </tr>\n",
       "    <tr>\n",
       "      <th>gpu</th>\n",
       "      <td>p5.48xlarge</td>\n",
       "      <td>10</td>\n",
       "    </tr>\n",
       "  </tbody>\n",
       "</table>\n",
       "</div>"
      ],
      "text/plain": [
       "           InstanceType  MaxCount\n",
       "Partition                        \n",
       "economy      t3.2xlarge        40\n",
       "hpc        c6i.32xlarge        10\n",
       "gpu         p5.48xlarge        10"
      ]
     },
     "execution_count": 35,
     "metadata": {},
     "output_type": "execute_result"
    }
   ],
   "source": [
    "df"
   ]
  },
  {
   "cell_type": "code",
   "execution_count": null,
   "id": "97c41a63-bcc7-40a2-a475-27e7e4b0ae54",
   "metadata": {},
   "outputs": [],
   "source": [
    "df."
   ]
  }
 ],
 "metadata": {
  "kernelspec": {
   "display_name": "Python 3 (ipykernel)",
   "language": "python",
   "name": "python3"
  },
  "language_info": {
   "codemirror_mode": {
    "name": "ipython",
    "version": 3
   },
   "file_extension": ".py",
   "mimetype": "text/x-python",
   "name": "python",
   "nbconvert_exporter": "python",
   "pygments_lexer": "ipython3",
   "version": "3.11.6"
  }
 },
 "nbformat": 4,
 "nbformat_minor": 5
}
