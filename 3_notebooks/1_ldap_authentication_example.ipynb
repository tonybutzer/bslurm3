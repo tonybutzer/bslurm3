{
 "cells": [
  {
   "cell_type": "raw",
   "id": "57f0fdb3-7f8f-4256-b136-01ab09964a46",
   "metadata": {},
   "source": [
    "import ldap\n",
    "\n",
    "def authenticate(username, password):\n",
    "    ldap.set_option(ldap.OPT_X_TLS_REQUIRE_CERT, ldap.OPT_X_TLS_NEVER)\n",
    "    server = \"ldapi:///\"\n",
    "    base_dn = \"dc=pcluster.com\"\n",
    "    user_dn = \"uid={},ou=People,{}\".format(username, base_dn)\n",
    "\n",
    "    try:\n",
    "        l = ldap.initialize(server)\n",
    "        l.protocol_version = ldap.VERSION3\n",
    "        l.simple_bind_s(user_dn, password)\n",
    "        return True\n",
    "    except ldap.INVALID_CREDENTIALS:\n",
    "        return False\n",
    "    except ldap.LDAPError as error:\n",
    "        print(\"Error:\", error)\n",
    "        return False\n",
    "    finally:\n",
    "        # close the connection to the server\n",
    "        l.unbind_s()"
   ]
  },
  {
   "cell_type": "raw",
   "id": "1db3dcea-158f-4861-9aae-f343c4307981",
   "metadata": {},
   "source": [
    "authenticate('tony', 'yaml')"
   ]
  },
  {
   "cell_type": "code",
   "execution_count": 6,
   "id": "a923c6ef-585e-40d1-ab46-43a86c5aa53e",
   "metadata": {},
   "outputs": [
    {
     "name": "stdout",
     "output_type": "stream",
     "text": [
      "[('uid=tony,ou=People,dc=pcluster,dc=com', {'uid': [b'tony'], 'cn': [b'tony'], 'objectClass': [b'account', b'posixAccount', b'top', b'shadowAccount'], 'shadowLastChange': [b'10000'], 'shadowMax': [b'99999'], 'shadowWarning': [b'7'], 'loginShell': [b'/bin/bash'], 'uidNumber': [b'1001'], 'gidNumber': [b'1000'], 'homeDirectory': [b'/home/tony'], 'userPassword': [b'{SSHA}Bfo5PBVHvozumDYwV0zlyFagPiBgoAem']})]\n",
      "uid=tony,ou=People,dc=pcluster,dc=com\n",
      "Authentication successful for tony\n"
     ]
    }
   ],
   "source": [
    "import ldap\n",
    "\n",
    "# Define LDAP server details\n",
    "ldap_server = \"ldap://localhost\"\n",
    "base_dn = \"ou=People,dc=pcluster,dc=com\"\n",
    "bind_dn = \"cn=ldapadm,dc=pcluster,dc=com\"  # The bind DN with enough privileges to perform the search\n",
    "bind_password = \"yaml\"\n",
    "\n",
    "# User credentials to authenticate\n",
    "username = \"tony\"\n",
    "password = \"UcA6SE2J\"\n",
    "\n",
    "# Initialize LDAP connection\n",
    "ldap_conn = ldap.initialize(ldap_server)\n",
    "ldap_conn.simple_bind_s(bind_dn, bind_password)\n",
    "\n",
    "try:\n",
    "    # Bind with admin credentials\n",
    "    ldap_conn.simple_bind_s(bind_dn, bind_password)\n",
    "\n",
    "    # Search for the user\n",
    "    search_filter = f\"(cn={username})\"\n",
    "    search_result = ldap_conn.search_s(base_dn, ldap.SCOPE_SUBTREE, search_filter)\n",
    "\n",
    "    print(search_result)\n",
    "\n",
    "    if search_result:\n",
    "        user_dn, user_info = search_result[0]\n",
    "        print(user_dn)\n",
    "\n",
    "        # Attempt to bind with user's credentials\n",
    "        ldap_conn.simple_bind_s(user_dn, password)\n",
    "\n",
    "        print(f\"Authentication successful for {username}\")\n",
    "    else:\n",
    "        print(f\"User {username} not found\")\n",
    "\n",
    "except ldap.INVALID_CREDENTIALS:\n",
    "    print(\"Invalid credentials\")\n",
    "except ldap.LDAPError as e:\n",
    "    print(f\"LDAP Error: {e}\")\n",
    "finally:\n",
    "    # Unbind the connection\n",
    "    ldap_conn.unbind()\n"
   ]
  },
  {
   "cell_type": "code",
   "execution_count": null,
   "id": "588606ea-80da-4f18-9730-822c6313c197",
   "metadata": {},
   "outputs": [],
   "source": []
  }
 ],
 "metadata": {
  "kernelspec": {
   "display_name": "Python 3 (ipykernel)",
   "language": "python",
   "name": "python3"
  },
  "language_info": {
   "codemirror_mode": {
    "name": "ipython",
    "version": 3
   },
   "file_extension": ".py",
   "mimetype": "text/x-python",
   "name": "python",
   "nbconvert_exporter": "python",
   "pygments_lexer": "ipython3",
   "version": "3.11.6"
  }
 },
 "nbformat": 4,
 "nbformat_minor": 5
}
