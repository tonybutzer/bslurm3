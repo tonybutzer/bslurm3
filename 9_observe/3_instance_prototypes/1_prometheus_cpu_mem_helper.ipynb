{
 "cells": [
  {
   "cell_type": "code",
   "execution_count": 2,
   "id": "75171f95-b87a-4352-a471-b310d5a88790",
   "metadata": {},
   "outputs": [],
   "source": [
    "# pip install prometheus-api-client\n"
   ]
  },
  {
   "cell_type": "code",
   "execution_count": null,
   "id": "bf936030-e476-47f3-a0db-739fedbdd43e",
   "metadata": {},
   "outputs": [],
   "source": [
    "from prometheus_api_client import PrometheusConnect\n",
    "\n",
    "def get_metrics(prometheus_url, query):\n",
    "    prom = PrometheusConnect(url=prometheus_url, disable_ssl=True)\n",
    "\n",
    "    # Query Prometheus for the metric\n",
    "    result = prom.custom_query(query)\n",
    "\n",
    "    return result\n",
    "\n",
    "# Replace 'your_prometheus_url' with the actual URL of your Prometheus instance\n",
    "prometheus_url = 'http://your_prometheus_url:9090'\n",
    "\n",
    "# Define Prometheus queries for CPU and memory metrics\n",
    "cpu_query = '100 - (avg by (instance) (irate(node_cpu_seconds_total{mode=\"idle\"}[5m])) * 100)'\n",
    "memory_query = '100 - ((avg_over_time(node_memory_MemFree_bytes[5m]) + avg_over_time(node_memory_Cached_bytes[5m]) + avg_over_time(node_memory_Buffers_bytes[5m])) / avg_over_time(node_memory_MemTotal_bytes[5m]) * 100)'\n",
    "\n",
    "# Get CPU and memory metrics\n",
    "cpu_metrics = get_metrics(prometheus_url, cpu_query)\n",
    "memory_metrics = get_metrics(prometheus_url, memory_query)\n",
    "\n",
    "# Display the results\n",
    "print(\"CPU Metrics:\")\n",
    "print(cpu_metrics)\n",
    "\n",
    "print(\"\\nMemory Metrics:\")\n",
    "print(memory_metrics)\n"
   ]
  }
 ],
 "metadata": {
  "kernelspec": {
   "display_name": "Python 3 (ipykernel)",
   "language": "python",
   "name": "python3"
  },
  "language_info": {
   "codemirror_mode": {
    "name": "ipython",
    "version": 3
   },
   "file_extension": ".py",
   "mimetype": "text/x-python",
   "name": "python",
   "nbconvert_exporter": "python",
   "pygments_lexer": "ipython3",
   "version": "3.11.6"
  }
 },
 "nbformat": 4,
 "nbformat_minor": 5
}
